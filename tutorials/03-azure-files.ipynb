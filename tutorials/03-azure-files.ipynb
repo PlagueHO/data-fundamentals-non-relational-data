{
 "cells": [
  {
   "cell_type": "markdown",
   "metadata": {},
   "source": [
    "## 03 - Azure Files\n",
    "\n",
    "In this task, we will look at how to create an Azure File share (part of an Azure Storage Account) and upload a file to it. An Azure File Share is a fully managed file share in the cloud that can be accessed via the industry standard Server Message Block (SMB) protocol or Network File System (NFS) protocol.\n",
    "\n",
    "> Azure Files is actually part of an Azure Storage account, so you could use the Azure Storage account created in tutorial [01 - Azure Blob Storage](../tutorials/01-azure-blob-storage.ipynb).\n",
    "\n",
    "To create a new Azure Storage account:\n",
    "\n",
    "1. Open the Azure portal.\n",
    "1. Search for `Storage accounts` and click on it.\n",
    "1. Click on the `+ Create` button to create a new storage account.\n",
    "1. Fill in the basic details to create a new storage account.\n",
    "\n",
    "   > Important: Storage Account names must be globally unique. You may need to try a few different names before you find one that is available.\n",
    "\n",
    "   ![Basics](../images/03-azure-files-basics.png)\n",
    "\n",
    "1. Click `Review + Create`.\n",
    "1. Click `Create`.\n",
    "1. After the storage account is created, navigate to it in the Portal.\n",
    "1. Select `File Shares` blade under `Data Storage`.\n",
    "1. Click `+ File Share` to create a new container and name it `blogpostimports`.\n",
    "\n",
    "   ![File Share](../images/03-azure-files-new-file-share.png)\n",
    "\n",
    "1. Click `Review + Create` and then `Create`.\n"
   ]
  },
  {
   "cell_type": "markdown",
   "metadata": {},
   "source": [
    "### Uploading a File to Azure File Share with Python\n",
    "\n",
    "In this task, we will upload a blog post for an example blogging platform in Azure Storage in a container called `blogpostimports` to a folder called `posts`.\n",
    "\n",
    "You'll need to get the Storage Account key from the Azure Portal."
   ]
  },
  {
   "cell_type": "code",
   "execution_count": 1,
   "metadata": {},
   "outputs": [
    {
     "name": "stdout",
     "output_type": "stream",
     "text": [
      "Collecting azure-storage-file-share\n",
      "  Using cached azure_storage_file_share-12.16.0-py3-none-any.whl.metadata (47 kB)\n",
      "Requirement already satisfied: azure-core>=1.28.0 in c:\\users\\dascottr\\appdata\\local\\anaconda3\\lib\\site-packages (from azure-storage-file-share) (1.30.1)\n",
      "Requirement already satisfied: cryptography>=2.1.4 in c:\\users\\dascottr\\appdata\\local\\anaconda3\\lib\\site-packages (from azure-storage-file-share) (42.0.2)\n",
      "Requirement already satisfied: typing-extensions>=4.6.0 in c:\\users\\dascottr\\appdata\\local\\anaconda3\\lib\\site-packages (from azure-storage-file-share) (4.9.0)\n",
      "Requirement already satisfied: isodate>=0.6.1 in c:\\users\\dascottr\\appdata\\local\\anaconda3\\lib\\site-packages (from azure-storage-file-share) (0.6.1)\n",
      "Requirement already satisfied: requests>=2.21.0 in c:\\users\\dascottr\\appdata\\local\\anaconda3\\lib\\site-packages (from azure-core>=1.28.0->azure-storage-file-share) (2.31.0)\n",
      "Requirement already satisfied: six>=1.11.0 in c:\\users\\dascottr\\appdata\\local\\anaconda3\\lib\\site-packages (from azure-core>=1.28.0->azure-storage-file-share) (1.16.0)\n",
      "Requirement already satisfied: cffi>=1.12 in c:\\users\\dascottr\\appdata\\local\\anaconda3\\lib\\site-packages (from cryptography>=2.1.4->azure-storage-file-share) (1.16.0)\n",
      "Requirement already satisfied: pycparser in c:\\users\\dascottr\\appdata\\local\\anaconda3\\lib\\site-packages (from cffi>=1.12->cryptography>=2.1.4->azure-storage-file-share) (2.21)\n",
      "Requirement already satisfied: charset-normalizer<4,>=2 in c:\\users\\dascottr\\appdata\\local\\anaconda3\\lib\\site-packages (from requests>=2.21.0->azure-core>=1.28.0->azure-storage-file-share) (2.0.4)\n",
      "Requirement already satisfied: idna<4,>=2.5 in c:\\users\\dascottr\\appdata\\local\\anaconda3\\lib\\site-packages (from requests>=2.21.0->azure-core>=1.28.0->azure-storage-file-share) (3.4)\n",
      "Requirement already satisfied: urllib3<3,>=1.21.1 in c:\\users\\dascottr\\appdata\\local\\anaconda3\\lib\\site-packages (from requests>=2.21.0->azure-core>=1.28.0->azure-storage-file-share) (2.0.7)\n",
      "Requirement already satisfied: certifi>=2017.4.17 in c:\\users\\dascottr\\appdata\\local\\anaconda3\\lib\\site-packages (from requests>=2.21.0->azure-core>=1.28.0->azure-storage-file-share) (2024.2.2)\n",
      "Using cached azure_storage_file_share-12.16.0-py3-none-any.whl (268 kB)\n",
      "Installing collected packages: azure-storage-file-share\n",
      "Successfully installed azure-storage-file-share-12.16.0\n",
      "Note: you may need to restart the kernel to use updated packages.\n"
     ]
    }
   ],
   "source": [
    "# Uncomment next line if not running in Devcontainer\n",
    "# %pip install azure-storage-file-share\n",
    "\n",
    "# Configure these for your Azure Storage Account\n",
    "account_name = '<your storage account name>'\n",
    "account_key = '<your storage account key>'\n",
    "\n",
    "# Define the fileshare_name name\n",
    "fileshare_name = 'blogpostimports'"
   ]
  },
  {
   "cell_type": "code",
   "execution_count": 2,
   "metadata": {},
   "outputs": [
    {
     "data": {
      "text/plain": [
       "<azure.storage.fileshare._directory_client.ShareDirectoryClient at 0x1f319a418d0>"
      ]
     },
     "execution_count": 2,
     "metadata": {},
     "output_type": "execute_result"
    }
   ],
   "source": [
    "# Create the posts directory in the Azure File Share\n",
    "from azure.storage.fileshare import ShareServiceClient\n",
    "service = ShareServiceClient(account_url=f\"https://{account_name}.file.core.windows.net\", credential=account_key)\n",
    "share = service.get_share_client(fileshare_name)\n",
    "share.create_directory('posts')\n"
   ]
  },
  {
   "cell_type": "code",
   "execution_count": 5,
   "metadata": {},
   "outputs": [
    {
     "name": "stdout",
     "output_type": "stream",
     "text": [
      "Uploading 01-how-to-make-friends-using-generative-ai.md to the Azure File Share\n"
     ]
    }
   ],
   "source": [
    "# Upload all markdown files in the ../sample-data/blog-posts directory to the Azure File Share in the posts folder\n",
    "import os\n",
    "from azure.storage.fileshare import ShareFileClient\n",
    "\n",
    "# Upload all the files in ..\\sample-data\\images\\ to the Azure Storage Account container\n",
    "for root, dirs, files in os.walk('../sample-data/blog-posts'):\n",
    "    for file in files:\n",
    "        if file.endswith('.md'):\n",
    "            print(f\"Uploading {file} to the Azure File Share\")\n",
    "            file_client = ShareFileClient.from_connection_string(conn_str=f\"DefaultEndpointsProtocol=https;AccountName={account_name};AccountKey={account_key}\", share_name=fileshare_name, file_path=f\"posts/{file}\")\n",
    "            with open(os.path.join(root, file), \"rb\") as data:\n",
    "                file_client.upload_file(data)\n",
    "\n"
   ]
  }
 ],
 "metadata": {
  "kernelspec": {
   "display_name": "base",
   "language": "python",
   "name": "python3"
  },
  "language_info": {
   "codemirror_mode": {
    "name": "ipython",
    "version": 3
   },
   "file_extension": ".py",
   "mimetype": "text/x-python",
   "name": "python",
   "nbconvert_exporter": "python",
   "pygments_lexer": "ipython3",
   "version": "3.11.7"
  }
 },
 "nbformat": 4,
 "nbformat_minor": 2
}

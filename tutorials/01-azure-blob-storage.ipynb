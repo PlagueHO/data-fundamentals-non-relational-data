{
 "cells": [
  {
   "cell_type": "markdown",
   "metadata": {},
   "source": [
    "## 01 - Azure Blob Storage\n",
    "\n",
    "In this task, we will look at how to create an Azure Blob Storage account and upload a file to it.\n",
    "\n",
    "1. Open the Azure portal.\n",
    "1. Search for `Storage accounts` and click on it.\n",
    "1. Click on the `+ Create` button to create a new storage account.\n",
    "1. Fill in the basic details to create a new storage account.\n",
    "\n",
    "   > Important: Storage Account names must be globally unique. You may need to try a few different names before you find one that is available.\n",
    "\n",
    "   ![Basics](../images/01-azure-blob-storage-basics.png)\n",
    "\n",
    "1. Click `Review + Create`.\n",
    "1. Click `Create`.\n",
    "1. After the storage account is created, navigate to it in the Portal.\n",
    "1. Select `Containers` blade under `Data Storage`.\n",
    "1. Click `+ Container` to create a new container and name it `blogpostimages`."
   ]
  },
  {
   "cell_type": "markdown",
   "metadata": {},
   "source": [
    "### Uploading a File to Azure Storage with Python\n",
    "\n",
    "In this task, we will store a user blog post image for an example blogging platform in Azure Storage in a container called `blogpostimages`.\n",
    "\n",
    "You'll need to get the Storage Account key from the Azure Portal."
   ]
  },
  {
   "cell_type": "code",
   "execution_count": 2,
   "metadata": {},
   "outputs": [
    {
     "name": "stdout",
     "output_type": "stream",
     "text": [
      "Requirement already satisfied: azure-storage-blob in c:\\users\\dascottr\\appdata\\local\\anaconda3\\lib\\site-packages (12.20.0)\n",
      "Requirement already satisfied: azure-core>=1.28.0 in c:\\users\\dascottr\\appdata\\local\\anaconda3\\lib\\site-packages (from azure-storage-blob) (1.30.1)\n",
      "Requirement already satisfied: cryptography>=2.1.4 in c:\\users\\dascottr\\appdata\\local\\anaconda3\\lib\\site-packages (from azure-storage-blob) (42.0.2)\n",
      "Requirement already satisfied: typing-extensions>=4.6.0 in c:\\users\\dascottr\\appdata\\local\\anaconda3\\lib\\site-packages (from azure-storage-blob) (4.9.0)\n",
      "Requirement already satisfied: isodate>=0.6.1 in c:\\users\\dascottr\\appdata\\local\\anaconda3\\lib\\site-packages (from azure-storage-blob) (0.6.1)\n",
      "Requirement already satisfied: requests>=2.21.0 in c:\\users\\dascottr\\appdata\\local\\anaconda3\\lib\\site-packages (from azure-core>=1.28.0->azure-storage-blob) (2.31.0)\n",
      "Requirement already satisfied: six>=1.11.0 in c:\\users\\dascottr\\appdata\\local\\anaconda3\\lib\\site-packages (from azure-core>=1.28.0->azure-storage-blob) (1.16.0)\n",
      "Requirement already satisfied: cffi>=1.12 in c:\\users\\dascottr\\appdata\\local\\anaconda3\\lib\\site-packages (from cryptography>=2.1.4->azure-storage-blob) (1.16.0)\n",
      "Requirement already satisfied: pycparser in c:\\users\\dascottr\\appdata\\local\\anaconda3\\lib\\site-packages (from cffi>=1.12->cryptography>=2.1.4->azure-storage-blob) (2.21)\n",
      "Requirement already satisfied: charset-normalizer<4,>=2 in c:\\users\\dascottr\\appdata\\local\\anaconda3\\lib\\site-packages (from requests>=2.21.0->azure-core>=1.28.0->azure-storage-blob) (2.0.4)\n",
      "Requirement already satisfied: idna<4,>=2.5 in c:\\users\\dascottr\\appdata\\local\\anaconda3\\lib\\site-packages (from requests>=2.21.0->azure-core>=1.28.0->azure-storage-blob) (3.4)\n",
      "Requirement already satisfied: urllib3<3,>=1.21.1 in c:\\users\\dascottr\\appdata\\local\\anaconda3\\lib\\site-packages (from requests>=2.21.0->azure-core>=1.28.0->azure-storage-blob) (2.0.7)\n",
      "Requirement already satisfied: certifi>=2017.4.17 in c:\\users\\dascottr\\appdata\\local\\anaconda3\\lib\\site-packages (from requests>=2.21.0->azure-core>=1.28.0->azure-storage-blob) (2024.2.2)\n",
      "Note: you may need to restart the kernel to use updated packages.\n"
     ]
    }
   ],
   "source": [
    "# Uncomment next line if not running in Devcontainer\n",
    "# %pip install azure-storage-blob\n",
    "\n",
    "# Configure these for your Azure Storage Account\n",
    "account_name = '<your storage account name>'\n",
    "account_key = '<your storage account key>'\n",
    "\n",
    "# Define the container name\n",
    "container_name = 'blogpostimages'"
   ]
  },
  {
   "cell_type": "code",
   "execution_count": 3,
   "metadata": {},
   "outputs": [],
   "source": [
    "# Upload all the files in ..\\sample-data\\images\\ to the Azure Storage Account container\n",
    "import os\n",
    "from azure.storage.blob import BlobServiceClient, BlobClient\n",
    "\n",
    "# Create a blob service client\n",
    "blob_service_client = BlobServiceClient(account_url=f\"https://{account_name}.blob.core.windows.net\", credential=account_key)\n",
    "\n",
    "# Create a container\n",
    "container_client = blob_service_client.get_container_client(container_name)\n",
    "container_client.create_container()\n",
    "\n",
    "# Upload all the files in ..\\sample-data\\images\\ to the Azure Storage Account container\n",
    "for root, dirs, files in os.walk('../sample-data/images'):\n",
    "    for file in files:\n",
    "        blob_client = blob_service_client.get_blob_client(container=container_name, blob=file)\n",
    "        with open(os.path.join(root, file), \"rb\") as data:\n",
    "            blob_client.upload_blob(data, overwrite=True)\n"
   ]
  },
  {
   "cell_type": "code",
   "execution_count": 6,
   "metadata": {},
   "outputs": [
    {
     "name": "stdout",
     "output_type": "stream",
     "text": [
      "\n",
      "Listing blobs...\n",
      "\tmyblogapp.jpg\t111340\tHot\n"
     ]
    }
   ],
   "source": [
    "# List all the files in the Azure Storage Account container\n",
    "print(\"\\nListing blobs...\")\n",
    "blob_list = container_client.list_blobs()\n",
    "\n",
    "# For each blob, show the name, length and storage tier\n",
    "for blob in blob_list:\n",
    "    print(\"\\t\" + blob.name + \"\\t\" + str(blob.size) + \"\\t\" + blob.blob_tier)"
   ]
  }
 ],
 "metadata": {
  "kernelspec": {
   "display_name": "base",
   "language": "python",
   "name": "python3"
  },
  "language_info": {
   "codemirror_mode": {
    "name": "ipython",
    "version": 3
   },
   "file_extension": ".py",
   "mimetype": "text/x-python",
   "name": "python",
   "nbconvert_exporter": "python",
   "pygments_lexer": "ipython3",
   "version": "3.11.7"
  }
 },
 "nbformat": 4,
 "nbformat_minor": 2
}

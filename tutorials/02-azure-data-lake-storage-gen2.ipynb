{
 "cells": [
  {
   "cell_type": "markdown",
   "metadata": {},
   "source": [
    "## 02 - Azure Data Lake Storage Gen2\n",
    "\n",
    "In this task, we will look at how to create an Azure Data Lake Storage account and upload a file to it.\n",
    "\n",
    "1. Open the Azure portal.\n",
    "2. Search for `Storage accounts` and click on it.\n",
    "3. Click on the `+ Create` button to create a new storage account.\n",
    "4. Fill in the necessary details to create a new storage account.\n",
    "5. After the storage account is created, click on the `Containers` tab and create a new container.\n",
    "6. Upload a file to the container."
   ]
  }
 ],
 "metadata": {
  "kernelspec": {
   "display_name": "base",
   "language": "python",
   "name": "python3"
  },
  "language_info": {
   "codemirror_mode": {
    "name": "ipython",
    "version": 3
   },
   "file_extension": ".py",
   "mimetype": "text/x-python",
   "name": "python",
   "nbconvert_exporter": "python",
   "pygments_lexer": "ipython3",
   "version": "3.11.7"
  }
 },
 "nbformat": 4,
 "nbformat_minor": 2
}

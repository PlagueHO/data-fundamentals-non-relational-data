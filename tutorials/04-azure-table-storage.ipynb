{
 "cells": [
  {
   "cell_type": "markdown",
   "metadata": {},
   "source": [
    "## 04 - Azure Table Storage\n",
    "\n",
    "In this task, we will look at how to create an Azure Table Storage account and add a new table to it.\n",
    "\n",
    "1. Open the Azure portal.\n",
    "2. Search for `Storage accounts` and click on it.\n",
    "3. Click on the `+ Create` button to create a new storage account.\n",
    "4. Fill in the necessary details to create a new storage account.\n",
    "5. After the storage account is created, click on the `Tables` tab.\n",
    "6. Click on the `+ Table` button to create a new table."
   ]
  },
  {
   "cell_type": "markdown",
   "metadata": {},
   "source": [
    "### Accessing Azure Table Storage with Python\n",
    "\n",
    "In this task, we will store a user comment for an example blogging platform in Azure Table Storage\n",
    "and against a blog post, using the blog post identifier as the partition key and a unique identifer as the row key.\n",
    "Add the user's name and the comment to the table.\n",
    "\n",
    "You'll need to get the Storage Account key from the Azure Portal and use the `azure-cosmosdb-table` library to interact with Azure Table Storage."
   ]
  },
  {
   "cell_type": "code",
   "execution_count": 6,
   "metadata": {},
   "outputs": [],
   "source": [
    "# Uncomment next line if not running in Devcontainer\n",
    "# %pip install azure-cosmosdb-table\n",
    "\n",
    "from azure.cosmosdb.table.tableservice import TableService\n",
    "from azure.cosmosdb.table.models import Entity\n",
    "import uuid\n",
    "import datetime\n",
    "\n",
    "# Configure these for your Azure Storage Account\n",
    "account_name = '<your storage account name>'\n",
    "account_key = '<your storage account key>'\n",
    "\n",
    "# Define the table name\n",
    "table_name = 'blogcomments'"
   ]
  },
  {
   "cell_type": "code",
   "execution_count": 7,
   "metadata": {},
   "outputs": [
    {
     "data": {
      "text/plain": [
       "'W/\"datetime\\'2024-06-27T07%3A03%3A12.0756946Z\\'\"'"
      ]
     },
     "execution_count": 7,
     "metadata": {},
     "output_type": "execute_result"
    }
   ],
   "source": [
    "table_service = TableService(account_name=account_name, account_key=account_key)\n",
    "\n",
    "# Create a new table entry to represent the user comment\n",
    "comment_entity = Entity()\n",
    "comment_entity.PartitionKey = 'how-to-make-friends-using-generative-ai'\n",
    "# Let's use a unique identifier for the RowKey- a Guid would be a good choice\n",
    "comment_entity.RowKey = str(uuid.uuid4())\n",
    "comment_entity.Name = 'Daniel Scott-Raynsford'\n",
    "comment_entity.Comment = 'This is a helpful post! Thanks for sharing!'\n",
    "comment_entity.Timestamp = datetime.datetime.now()\n",
    "\n",
    "# Insert the entity into the table\n",
    "table_service.insert_entity(table_name, comment_entity)"
   ]
  },
  {
   "cell_type": "code",
   "execution_count": 8,
   "metadata": {},
   "outputs": [
    {
     "name": "stdout",
     "output_type": "stream",
     "text": [
      "Daniel Scott-Raynsford said: 'This is a helpful post! Thanks for sharing!' at 2024-06-27 07:03:12.075694+00:00\n",
      "Daniel Scott-Raynsford said: 'This is a helpful post! Thanks for sharing!' at 2024-06-27 06:40:09.404467+00:00\n",
      "Daniel Scott-Raynsford said: 'This is a helpful post! Thanks for sharing!' at 2024-06-27 07:01:57.014473+00:00\n"
     ]
    }
   ],
   "source": [
    "table_service = TableService(account_name=account_name, account_key=account_key)    \n",
    "\n",
    "# Get all the comments for a specific blog post\n",
    "comments = table_service.query_entities(table_name, filter=\"PartitionKey eq 'how-to-make-friends-using-generative-ai'\")\n",
    "for comment in comments:\n",
    "    print(f\"{comment.Name} said: '{comment.Comment}' at {comment.Timestamp}\")\n"
   ]
  }
 ],
 "metadata": {
  "kernelspec": {
   "display_name": "base",
   "language": "python",
   "name": "python3"
  },
  "language_info": {
   "codemirror_mode": {
    "name": "ipython",
    "version": 3
   },
   "file_extension": ".py",
   "mimetype": "text/x-python",
   "name": "python",
   "nbconvert_exporter": "python",
   "pygments_lexer": "ipython3",
   "version": "3.11.7"
  }
 },
 "nbformat": 4,
 "nbformat_minor": 2
}

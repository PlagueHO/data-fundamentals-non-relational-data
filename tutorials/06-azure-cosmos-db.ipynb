{
 "cells": [
  {
   "cell_type": "markdown",
   "metadata": {},
   "source": [
    "## 06 - Azure Cosmos DB\n",
    "\n",
    "In this task, we will look at how to create an Azure Cosmos DB account and create a new database and collection.\n",
    "\n",
    "1. Open the Azure portal.\n",
    "1. Search for `Azure Cosmos DB` and click on it.\n",
    "1. Click on the `+ Create` button to create a new Azure Cosmos DB account.\n",
    "1. Select `Azure Cosmos DB for NoSQL` as the API.\n",
    "\n",
    "   ![Create Azure Cosmos DB account](../images/06-azure-cosmos-db-apis.png)\n",
    "\n",
    "1. Fill in the necessary details to create a new Azure Cosmos DB account.\n",
    "\n",
    "   > Important: Cosmos DB account names must be globally unique. If you see an error message that the name is already taken, try a different name.\n",
    "\n",
    "   ![Create Azure Cosmos DB account](../images/06-azure-cosmos-db-create.png)\n",
    "\n",
    "1. Click `Review + Create` and then click `Create`.\n",
    "1. After the account is created, open the new account in the Azure Portal.\n",
    "1. Select the `Keys` blade from the `Settings` section.\n",
    "1. Copy the `Primary Key` from the `Readd-write keys` section and use it in the code below.\n",
    "\n",
    "   ![Azure Cosmos DB Keys](../images/06-azure-cosmos-db-keys.png)\n"
   ]
  },
  {
   "cell_type": "markdown",
   "metadata": {},
   "source": [
    "### Accessing Azure Cosmos DB with Python\n",
    "\n",
    "In this task, we will store a user comment for an example blogging platform in an Azure Cosmos DB container.\n",
    "We will use the SQL API to:\n",
    "\n",
    "1. Create the database.\n",
    "1. Create a container with the blog post identifier as the partition key.\n",
    "1. Add a user comment to the container for a blog post.\n",
    "1. Read all the comments for a blog post.\n",
    "\n",
    "You'll need to get the Cosmos DB Connecting String from the Azure Portal."
   ]
  },
  {
   "cell_type": "code",
   "execution_count": 8,
   "metadata": {},
   "outputs": [],
   "source": [
    "# Uncomment next line if not running in Devcontainer\n",
    "# %pip install azure-cosmos\n",
    "\n",
    "from azure.cosmos import exceptions, CosmosClient, PartitionKey\n",
    "import uuid\n",
    "import datetime\n",
    "\n",
    "# Configure these for your Azure Cosmos DB Account\n",
    "account_name = '<your Cosmos DB account name>'\n",
    "account_key = '<your Cosmos DB account key>' # Note: a better way is to use Entra ID, but this is out of scope.\n",
    "\n",
    "# Define the database name\n",
    "database_name = 'blogdb'\n",
    "\n",
    "# Define the container name\n",
    "container_name = 'blogcomments'"
   ]
  },
  {
   "cell_type": "code",
   "execution_count": 18,
   "metadata": {},
   "outputs": [
    {
     "name": "stdout",
     "output_type": "stream",
     "text": [
      "Database properties: {'id': 'blogdb', '_rid': 'XwRGAA==', '_self': 'dbs/XwRGAA==/', '_etag': '\"00000f02-0000-1a00-0000-668224f50000\"', '_colls': 'colls/', '_users': 'users/', '_ts': 1719805173}\n",
      "Container properties: {'id': 'blogcomments', 'indexingPolicy': {'indexingMode': 'consistent', 'automatic': True, 'includedPaths': [{'path': '/*'}], 'excludedPaths': [{'path': '/\"_etag\"/?'}]}, 'partitionKey': {'paths': ['/blog_id'], 'kind': 'Hash', 'version': 2}, 'conflictResolutionPolicy': {'mode': 'LastWriterWins', 'conflictResolutionPath': '/_ts', 'conflictResolutionProcedure': ''}, 'geospatialConfig': {'type': 'Geography'}, '_rid': 'XwRGAJ9FeFQ=', '_ts': 1719808599, '_self': 'dbs/XwRGAA==/colls/XwRGAJ9FeFQ=/', '_etag': '\"00002002-0000-1a00-0000-668232570000\"', '_docs': 'docs/', '_sprocs': 'sprocs/', '_triggers': 'triggers/', '_udfs': 'udfs/', '_conflicts': 'conflicts/'}\n"
     ]
    }
   ],
   "source": [
    "# Using Python as azure.cosmos, Create the Cosmos DB client\n",
    "url = f\"https://{account_name}.documents.azure.com:443/\"\n",
    "client = CosmosClient(url, {'masterKey': account_key})\n",
    "\n",
    "# Create the database if it doesn't exist\n",
    "try:\n",
    "    database = client.create_database(id=database_name)\n",
    "except exceptions.CosmosResourceExistsError:\n",
    "    database = client.get_database_client(database=database_name)\n",
    "\n",
    "# Create the container if it doesn't exist\n",
    "try:\n",
    "    container = database.create_container(id=container_name, partition_key=PartitionKey(path=\"/blog_id\"))\n",
    "except exceptions.CosmosResourceExistsError:\n",
    "    container = database.get_container_client(container_name)\n",
    "\n",
    "# Display the database throughput and settings.\n",
    "database_properties = database.read()\n",
    "print(f\"Database properties: {database_properties}\")\n",
    "\n",
    "# Display the container throughput and settings\n",
    "container_properties = container.read()\n",
    "print(f\"Container properties: {container_properties}\")\n"
   ]
  },
  {
   "cell_type": "code",
   "execution_count": 21,
   "metadata": {},
   "outputs": [
    {
     "name": "stdout",
     "output_type": "stream",
     "text": [
      "Added comment: {'id': 'd0af6476-4b08-47b7-9c7d-b66f2a986ffc', 'blog_id': '1', 'user': 'Daniel Scott-Raynsford', 'comment': 'I love this blog post!', 'timestamp': '2024-07-01 16:36:49'}\n"
     ]
    }
   ],
   "source": [
    "# Add a new blog comment to the container\n",
    "comment = {\n",
    "    \"id\": str(uuid.uuid4()),\n",
    "    \"blog_id\": \"1\",\n",
    "    \"user\": \"Daniel Scott-Raynsford\",\n",
    "    \"comment\": \"I love this blog post!\",\n",
    "    \"timestamp\": datetime.datetime.now().strftime(\"%Y-%m-%d %H:%M:%S\")\n",
    "}\n",
    "\n",
    "container.create_item(body=comment)\n",
    "print(f\"Added comment: {comment}\")\n"
   ]
  },
  {
   "cell_type": "code",
   "execution_count": 23,
   "metadata": {},
   "outputs": [
    {
     "name": "stdout",
     "output_type": "stream",
     "text": [
      "Comments:\n",
      "{'id': 'f2608af5-5611-4109-8eba-9ee9646098e5', 'blog_id': '1', 'user': 'Daniel Scott-Raynsford', 'comment': 'I love this blog post!', 'timestamp': '2024-07-01 16:36:44', '_rid': 'XwRGAJ9FeFQBAAAAAAAAAA==', '_self': 'dbs/XwRGAA==/colls/XwRGAJ9FeFQ=/docs/XwRGAJ9FeFQBAAAAAAAAAA==/', '_etag': '\"0100aa89-0000-1a00-0000-6682325c0000\"', '_attachments': 'attachments/', '_ts': 1719808604}\n",
      "{'id': 'd0af6476-4b08-47b7-9c7d-b66f2a986ffc', 'blog_id': '1', 'user': 'Daniel Scott-Raynsford', 'comment': 'I love this blog post!', 'timestamp': '2024-07-01 16:36:49', '_rid': 'XwRGAJ9FeFQCAAAAAAAAAA==', '_self': 'dbs/XwRGAA==/colls/XwRGAJ9FeFQ=/docs/XwRGAJ9FeFQCAAAAAAAAAA==/', '_etag': '\"0100af89-0000-1a00-0000-668232610000\"', '_attachments': 'attachments/', '_ts': 1719808609}\n"
     ]
    }
   ],
   "source": [
    "# Get all the comments for the blog post with id \"1\" (which is the partition key)\n",
    "# Don't use a cross-partition query\n",
    "comments = list(container.query_items(\n",
    "    query=\"SELECT * FROM blogcomments bc WHERE bc.blog_id = '1'\",\n",
    "    enable_cross_partition_query=False\n",
    "))\n",
    "\n",
    "# Display the comments\n",
    "print(\"Comments:\")\n",
    "for comment in comments:\n",
    "    print(comment)\n"
   ]
  }
 ],
 "metadata": {
  "kernelspec": {
   "display_name": "base",
   "language": "python",
   "name": "python3"
  },
  "language_info": {
   "codemirror_mode": {
    "name": "ipython",
    "version": 3
   },
   "file_extension": ".py",
   "mimetype": "text/x-python",
   "name": "python",
   "nbconvert_exporter": "python",
   "pygments_lexer": "ipython3",
   "version": "3.11.7"
  }
 },
 "nbformat": 4,
 "nbformat_minor": 2
}

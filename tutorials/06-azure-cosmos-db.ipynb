{
 "cells": [
  {
   "cell_type": "markdown",
   "metadata": {},
   "source": [
    "## 06 - Azure Cosmos DB\n",
    "\n",
    "In this task, we will look at how to create an Azure Cosmos DB account and create a new database and collection.\n",
    "\n",
    "1. Open the Azure portal.\n",
    "2. Search for `Azure Cosmos DB` and click on it.\n",
    "3. Click on the `+ Add` button to create a new Azure Cosmos DB account.\n",
    "4. Fill in the necessary details to create a new Azure Cosmos DB account.\n",
    "5. After the account is created, click on the `Data Explorer` tab and create a new database and collection."
   ]
  }
 ],
 "metadata": {
  "kernelspec": {
   "display_name": "base",
   "language": "python",
   "name": "python3"
  },
  "language_info": {
   "codemirror_mode": {
    "name": "ipython",
    "version": 3
   },
   "file_extension": ".py",
   "mimetype": "text/x-python",
   "name": "python",
   "nbconvert_exporter": "python",
   "pygments_lexer": "ipython3",
   "version": "3.11.7"
  }
 },
 "nbformat": 4,
 "nbformat_minor": 2
}

{
 "cells": [
  {
   "cell_type": "markdown",
   "metadata": {},
   "source": [
    "## 05 - AzCopy & Azure Storage Explorer\n",
    "\n",
    "In this task we'll show how to download and install AzCopy and Azure Storage Explorer.\n"
   ]
  },
  {
   "cell_type": "markdown",
   "metadata": {},
   "source": [
    "### AzCopy\n",
    "\n",
    "AzCopy is a command-line utility that you can use to copy blobs or files to or from a storage account. It is particularly useful for uploading or downloading large files to or from Azure Blob Storage.\n",
    "\n",
    "> To install AzCopy, you can download it from the [official download page](https://docs.microsoft.com/en-us/azure/storage/common/storage-use-azcopy-v10).\n",
    "\n",
    "Once installed, get a SAS token from the Azure Portal for the container by following these steps:\n",
    "\n",
    "1. Go to the Azure Portal and navigate to the storage account.\n",
    "1. Click on the container you want to access under the `Containers` blade.\n",
    "1. Click on the `Generate SAS` option.\n",
    "\n",
    "   ![Generate SAS](../images/04-azcopy-get-sas.png)\n",
    "\n",
    "1. Click `Generate SAS token and URL`.\n",
    "1. Copy the `Blob SAS token` and use it in the code below.\n",
    "\n",
    "   ![Copy SAS token](../images/04-azcopy-copy-sas.png)\n"
   ]
  },
  {
   "cell_type": "code",
   "execution_count": 1,
   "metadata": {
    "vscode": {
     "languageId": "powershell"
    }
   },
   "outputs": [
    {
     "ename": "SyntaxError",
     "evalue": "invalid syntax (1230509837.py, line 4)",
     "output_type": "error",
     "traceback": [
      "\u001b[1;36m  Cell \u001b[1;32mIn[1], line 4\u001b[1;36m\u001b[0m\n\u001b[1;33m    $account_name = 'dsrwinterschool'\u001b[0m\n\u001b[1;37m    ^\u001b[0m\n\u001b[1;31mSyntaxError\u001b[0m\u001b[1;31m:\u001b[0m invalid syntax\n"
     ]
    }
   ],
   "source": [
    "# This is PowerShell, so won't run in Jupyter Notebooks. Instead, run this in a PowerShell terminal.\n",
    "# AzCopy command to upload all files in ..\\sample-data\\images\\*.jpg to Azure Storage container\n",
    "# named blogpostimages in the storage account named 'myaccount' in the resource group named 'myresourcegroup'\n",
    "\n",
    "$account_name = '<your storage account name>'\n",
    "$sas_token = '<SAS token from above>'\n",
    "\n",
    "# Define the table name\n",
    "$container_name = 'blogpostimages'\n",
    "\n",
    "$source = \"..\\sample-data\\images\\*.jpg\"\n",
    "$destination = \"https://$($account_name).blob.core.windows.net/$($container_name)?$($sas_token)\"\n",
    "\n",
    "azcopy cp $source $destination --recursive --include-pattern \"*.jpg\""
   ]
  },
  {
   "cell_type": "markdown",
   "metadata": {},
   "source": [
    "### Azure Storage Explorer\n",
    "\n",
    "Azure Storage Explorer is a standalone app that makes it easy to work with Azure Storage data on Windows, macOS, and Linux. You can use it to upload and download data to and from Azure Blob Storage, manage the contents of your storage account, and more.\n",
    "\n",
    "> To install Azure Storage Explorer, you can download it from the [official download page](https://azure.microsoft.com/en-us/features/storage-explorer/).\n",
    "\n",
    "Once installed, open the app and connect to your Azure account by following these steps:\n",
    "\n",
    "1. Click on the `Connect to Azure Storage` button.\n",
    "1. Sign in with your Azure account.\n",
    "1. Once signed in, you'll see a list of your storage accounts. Click on the one you want to access.\n",
    "1. You'll see a list of the containers in the storage account. Click on the one you want to access.\n",
    "1. You can now view and manage the contents of the container."
   ]
  }
 ],
 "metadata": {
  "kernelspec": {
   "display_name": "base",
   "language": "python",
   "name": "python3"
  },
  "language_info": {
   "codemirror_mode": {
    "name": "ipython",
    "version": 3
   },
   "file_extension": ".py",
   "mimetype": "text/x-python",
   "name": "python",
   "nbconvert_exporter": "python",
   "pygments_lexer": "ipython3",
   "version": "3.11.7"
  }
 },
 "nbformat": 4,
 "nbformat_minor": 2
}
